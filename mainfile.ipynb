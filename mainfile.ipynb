{
 "cells": [
  {
   "cell_type": "code",
   "execution_count": 16,
   "id": "90196796-bd9b-4ce0-89ea-0295c310f4fc",
   "metadata": {},
   "outputs": [
    {
     "name": "stdout",
     "output_type": "stream",
     "text": [
      "Scraping complete. Data saved to 'courses.csv'.\n"
     ]
    }
   ],
   "source": [
    "import requests\n",
    "from bs4 import BeautifulSoup\n",
    "import csv\n",
    "\n",
    "# Base URL of the webpage\n",
    "base_url = \"https://courses.analyticsvidhya.com/collections/courses?page=\"\n",
    "\n",
    "# Open a CSV file to save the data\n",
    "with open('courses_vidhya.csv', 'w', newline='', encoding='utf-8') as file:\n",
    "    writer = csv.writer(file)\n",
    "    writer.writerow(['Course Name', 'Lessons', 'Price', 'Link'])\n",
    "\n",
    "    page = 1\n",
    "    while True:\n",
    "        # Fetch the webpage for the current page\n",
    "        response = requests.get(base_url + str(page))\n",
    "        soup = BeautifulSoup(response.content, 'html.parser')\n",
    "\n",
    "        # Find all course cards\n",
    "        courses = soup.find_all('a', class_='course-card')\n",
    "\n",
    "        # Break if no courses are found (last page)\n",
    "        if not courses:\n",
    "            break\n",
    "\n",
    "        for course in courses:\n",
    "            # Extract details\n",
    "            course_name = course.find('h3').text.strip() if course.find('h3') else 'N/A'\n",
    "            lessons = course.find('span', class_='course-card__lesson-count')\n",
    "            lessons = lessons.text.strip() if lessons else 'N/A'\n",
    "            price = course.find('span', class_='course-card__price')\n",
    "            price = price.text.strip() if price else 'N/A'\n",
    "            link = \"https://courses.analyticsvidhya.com\" + course['href'] if course.get('href') else 'N/A'\n",
    "\n",
    "            # Write to CSV\n",
    "            writer.writerow([course_name, lessons, price, link])\n",
    "\n",
    "        # Go to the next page\n",
    "        page += 1\n",
    "\n",
    "print(\"Scraping complete. Data saved to 'courses.csv'.\")\n"
   ]
  },
  {
   "cell_type": "code",
   "execution_count": 18,
   "id": "d038eccc-eaf2-4e70-bc6d-e3ea328ec00f",
   "metadata": {},
   "outputs": [
    {
     "name": "stdout",
     "output_type": "stream",
     "text": [
      "Data saved as JSON.\n"
     ]
    }
   ],
   "source": [
    "import json\n",
    "\n",
    "# Load the CSV data\n",
    "with open('courses_vidhya.csv', 'r') as file:\n",
    "    data = [line.strip().split(',') for line in file.readlines()][1:]\n",
    "\n",
    "# Convert to dictionary format\n",
    "courses_data = [{\"course_name\": course[0], \"lessons\": course[1], \"price\": course[2], \"link\": course[3]} for course in data]\n",
    "\n",
    "# Save as JSON\n",
    "with open('courses_vidhya.json', 'w') as json_file:\n",
    "    json.dump(courses_data, json_file)\n",
    "\n",
    "print(\"Data saved as JSON.\")\n"
   ]
  },
  {
   "cell_type": "code",
   "execution_count": 24,
   "id": "91d2794d-91fe-4155-82cb-9b26f3ed6207",
   "metadata": {},
   "outputs": [
    {
     "name": "stdout",
     "output_type": "stream",
     "text": [
      "{'course_name': 'Frameworks for Effective Problem Solving', 'lessons': '18 Lessons', 'price': 'Free', 'link': 'https://courses.analyticsvidhya.com/courses/frameworks-for-effective-problem-solving'}\n",
      "{'course_name': 'Anyone can Build AI Agents - Free Course', 'lessons': '5 Lessons', 'price': 'Free', 'link': 'https://courses.analyticsvidhya.com/courses/your-ultimate-guide-to-becoming-an-agentic-ai-expert-by-2025'}\n",
      "{'course_name': 'A Comprehensive Learning Path to Become a Data Analyst in 2025', 'lessons': '298 Lessons', 'price': 'Free', 'link': 'https://courses.analyticsvidhya.com/courses/a-comprehensive-learning-path-to-become-a-data-analyst-in-2025'}\n",
      "{'course_name': 'Reimagining GenAI: Common Mistakes and Best Practices for Success', 'lessons': '6 Lessons', 'price': 'Free', 'link': 'https://courses.analyticsvidhya.com/courses/reimagining-genai-common-mistakes-and-best-practices-for-success'}\n",
      "{'course_name': 'Coding a ChatGPT-style Language Model from Scratch in PyTorch', 'lessons': '7 Lessons', 'price': 'Free', 'link': 'https://courses.analyticsvidhya.com/courses/coding-a-chatgpt-style-language-model-from-scratch-in-pytorch'}\n",
      "{'course_name': 'Mastering Multilingual GenAI Open-Weights for Indic Languages', 'lessons': '9 Lessons', 'price': 'Free', 'link': 'https://courses.analyticsvidhya.com/courses/mastering-multilingual-genai-open-weights-for-indic-languages'}\n",
      "{'course_name': 'Learning Autonomous Driving Behaviors with LLMs & RL', 'lessons': '6 Lessons', 'price': 'Free', 'link': 'https://courses.analyticsvidhya.com/courses/learning-autonomous-driving-behaviors-with-llms-and-rl'}\n",
      "{'course_name': 'GenAI Applied to Quantitative Finance: For Control Implementation', 'lessons': '5 Lessons', 'price': 'Free', 'link': 'https://courses.analyticsvidhya.com/courses/genai-applied-to-quantitative-finance-for-control-implementation'}\n",
      "{'course_name': '\"Navigating LLM Tradeoffs: Techniques for Speed', 'lessons': ' Cost', 'price': ' Scale & Accuracy\"', 'link': '6 Lessons'}\n",
      "{'course_name': 'Creating Problem-Solving Agents using GenAI for Action Composition', 'lessons': '6 Lessons', 'price': 'Free', 'link': 'https://courses.analyticsvidhya.com/courses/creating-problem-solving-agents-using-genai-for-action-composition'}\n",
      "{'course_name': 'Improving Real World RAG Systems: Key Challenges & Practical Solutions', 'lessons': '12 Lessons', 'price': 'Free', 'link': 'https://courses.analyticsvidhya.com/courses/improving-real-world-rag-systems-key-challenges'}\n",
      "{'course_name': 'Framework to Choose the Right LLM for your Business', 'lessons': '6 Lessons', 'price': 'Free', 'link': 'https://courses.analyticsvidhya.com/courses/choosing-the-right-LLM-for-your-business'}\n",
      "{'course_name': 'Building Smarter LLMs with Mamba and State Space Model', 'lessons': '14 Lessons', 'price': 'Free', 'link': 'https://courses.analyticsvidhya.com/courses/building-smarter-llms-with-mamba-and-state-space-model'}\n",
      "{'course_name': 'Generative AI - A Way of Life - Free Course', 'lessons': '31 Lessons', 'price': 'Free', 'link': 'https://courses.analyticsvidhya.com/courses/genai-a-way-of-life'}\n",
      "{'course_name': 'Building LLM Applications using Prompt Engineering - Free Course', 'lessons': '18 Lessons', 'price': 'Free', 'link': 'https://courses.analyticsvidhya.com/courses/building-llm-applications-using-prompt-engineering-free'}\n",
      "{'course_name': 'Building Your First Computer Vision Model - Free Course', 'lessons': '7 Lessons', 'price': 'Free', 'link': 'https://courses.analyticsvidhya.com/courses/building-your-first-computer-vision-model'}\n",
      "{'course_name': 'Bagging and Boosting ML Algorithms - Free Course', 'lessons': '16 Lessons', 'price': 'Free', 'link': 'https://courses.analyticsvidhya.com/courses/bagging-boosting-ML-Algorithms'}\n",
      "{'course_name': 'MidJourney: From Inspiration to Implementation - Free Course', 'lessons': '5 Lessons', 'price': 'Free', 'link': 'https://courses.analyticsvidhya.com/courses/midjourney_from_inspiration_to_implementation'}\n",
      "{'course_name': 'Understanding Linear Regression - Free Course', 'lessons': '10 Lessons', 'price': 'Free', 'link': 'https://courses.analyticsvidhya.com/courses/free-understanding-linear-regression'}\n",
      "{'course_name': 'The Working of Neural Networks - Free Course', 'lessons': '11 Lessons', 'price': 'Free', 'link': 'https://courses.analyticsvidhya.com/courses/the-working-of-neural-networks'}\n",
      "{'course_name': 'The A to Z of Unsupervised ML - Free Course', 'lessons': '13 Lessons', 'price': 'Free', 'link': 'https://courses.analyticsvidhya.com/courses/free-unsupervised-ml-guide'}\n",
      "{'course_name': 'Building Your first RAG System using LlamaIndex - Free Course', 'lessons': '12 Lessons', 'price': 'Free', 'link': 'https://courses.analyticsvidhya.com/courses/building-first-rag-systems-using-llamaindex'}\n",
      "{'course_name': 'Data Preprocessing on a Real-World Problem Statement - Free Course', 'lessons': '13 Lessons', 'price': 'Free', 'link': 'https://courses.analyticsvidhya.com/courses/data-preprocessing'}\n",
      "{'course_name': 'Exploring Stability.AI - Free Course', 'lessons': '7 Lessons', 'price': 'Free', 'link': 'https://courses.analyticsvidhya.com/courses/exploring-stability-ai'}\n",
      "{'course_name': 'Building a Text Classification Model with Natural Language Processing - Free Course', 'lessons': '16 Lessons', 'price': 'Free', 'link': 'https://courses.analyticsvidhya.com/courses/free-building-textclassification-natural-language-processing'}\n",
      "{'course_name': 'Getting Started with Large Language Models', 'lessons': '18 Lessons', 'price': 'Free', 'link': 'https://courses.analyticsvidhya.com/courses/getting-started-with-llms'}\n",
      "{'course_name': 'Introduction to Generative  AI', 'lessons': '9 Lessons', 'price': 'Free', 'link': 'https://courses.analyticsvidhya.com/courses/introduction-to-generative-ai'}\n",
      "{'course_name': 'Exploring Natural Language Processing (NLP) using Deep Learning', 'lessons': '79 Lessons', 'price': 'Free', 'link': 'https://courses.analyticsvidhya.com/courses/exploring-natural-language-processing-nlp-using-deep-learning'}\n",
      "{'course_name': 'Getting Started with Deep Learning', 'lessons': '299 Lessons', 'price': 'Free', 'link': 'https://courses.analyticsvidhya.com/courses/getting-started-with-deep-learning'}\n",
      "{'course_name': 'Nano Course: Dreambooth-Stable Diffusion for Custom Images', 'lessons': '13 Lessons', 'price': 'Free', 'link': 'https://courses.analyticsvidhya.com/courses/nano-course-dreambooth-stable-diffusion-for-custom-images'}\n",
      "{'course_name': 'A Comprehensive Learning Path for Deep Learning in 2023', 'lessons': '72 Lessons', 'price': 'Free', 'link': 'https://courses.analyticsvidhya.com/courses/a-comprehensive-learning-path-for-deep-learning-in-2023'}\n",
      "{'course_name': 'A Comprehensive Learning Path to Become a Data Scientist in 2024', 'lessons': '389 Lessons', 'price': 'Free', 'link': 'https://courses.analyticsvidhya.com/courses/a-comprehensive-learning-path-to-become-a-data-scientist-in-twenty-twenty-four'}\n",
      "{'course_name': 'Nano Course: Building Large Language Models for Code', 'lessons': '10 Lessons', 'price': 'Free', 'link': 'https://courses.analyticsvidhya.com/courses/building-large-language-models-for-code'}\n",
      "{'course_name': 'Nano Course: Cutting Edge LLM Tricks', 'lessons': '12 Lessons', 'price': 'Free', 'link': 'https://courses.analyticsvidhya.com/courses/cutting-edge-llm-tricks'}\n",
      "{'course_name': 'Certified AI & ML BlackBelt+ Program', 'lessons': 'N/A', 'price': '\"$1', 'link': '699.00\"'}\n",
      "{'course_name': 'Machine Learning Summer Training', 'lessons': '263 Lessons', 'price': 'Free', 'link': 'https://courses.analyticsvidhya.com/courses/machine-learning-summer-training'}\n",
      "{'course_name': 'AI Ethics by Fractal', 'lessons': '5 Lessons', 'price': '$20.00', 'link': 'https://courses.analyticsvidhya.com/courses/ai-ethics-fractal'}\n",
      "{'course_name': 'A Comprehensive Learning Path to Become a Data Engineer in 2022', 'lessons': '204 Lessons', 'price': 'Free', 'link': 'https://courses.analyticsvidhya.com/courses/a-comprehensive-learning-path-to-become-a-data-engineer-in-2022'}\n",
      "{'course_name': 'Certified Business Analytics Program', 'lessons': 'N/A', 'price': '$280.00', 'link': 'https://courses.analyticsvidhya.com/bundles/certified-business-analytics-program'}\n",
      "{'course_name': \"Certified Machine Learning Master's Program (MLMP)\", 'lessons': 'N/A', 'price': '$330.00', 'link': 'https://courses.analyticsvidhya.com/bundles/certified-machine-learning-master-s-program-mlmp'}\n",
      "{'course_name': 'Certified Natural Language Processing Master’s Program', 'lessons': 'N/A', 'price': '$250.00', 'link': 'https://courses.analyticsvidhya.com/bundles/certified-natural-language-processing-master-s-program'}\n",
      "{'course_name': \"Certified Computer Vision Master's Program\", 'lessons': 'N/A', 'price': '$230.00', 'link': 'https://courses.analyticsvidhya.com/bundles/certified-computer-vision-masters-program'}\n",
      "{'course_name': 'Applied Machine Learning - Beginner to Professional', 'lessons': '612 Lessons', 'price': '$250.00', 'link': 'https://courses.analyticsvidhya.com/courses/applied-machine-learning-beginner-to-professional'}\n",
      "{'course_name': 'Ace Data Science Interviews', 'lessons': '59 Lessons', 'price': '$60.00', 'link': 'https://courses.analyticsvidhya.com/courses/ace-data-science-interviews'}\n",
      "{'course_name': 'Writing Powerful Data Science Articles', 'lessons': '6 Lessons', 'price': 'Free', 'link': 'https://courses.analyticsvidhya.com/courses/writing-powerful-data-science-articles'}\n",
      "{'course_name': 'Machine Learning Certification Course for Beginners', 'lessons': '261 Lessons', 'price': 'Free', 'link': 'https://courses.analyticsvidhya.com/courses/Machine-Learning-Certification-Course-for-Beginners'}\n",
      "{'course_name': 'Data Science Career Conclave', 'lessons': '6 Lessons', 'price': 'Free', 'link': 'https://courses.analyticsvidhya.com/courses/data-science-career-conclave'}\n",
      "{'course_name': 'Top Data Science Projects for Analysts and Data Scientists', 'lessons': '36 Lessons', 'price': 'Free', 'link': 'https://courses.analyticsvidhya.com/courses/top-data-science-projects-for-analysts-and-data-scientists'}\n",
      "{'course_name': 'Getting Started with Git and GitHub for Data Science Professionals', 'lessons': '20 Lessons', 'price': 'Free', 'link': 'https://courses.analyticsvidhya.com/courses/getting-started-with-git-and-github-for-data-science-professionals'}\n",
      "{'course_name': 'Machine Learning Starter Program', 'lessons': 'N/A', 'price': 'Free', 'link': 'https://courses.analyticsvidhya.com/bundles/machine-learning-starter-program'}\n",
      "{'course_name': '\"Data Science Hacks', 'lessons': ' Tips and Tricks\"', 'price': '37 Lessons', 'link': 'Free'}\n",
      "{'course_name': 'Introduction to Business Analytics', 'lessons': '33 Lessons', 'price': 'Free', 'link': 'https://courses.analyticsvidhya.com/courses/introduction-to-analytics'}\n",
      "{'course_name': 'Introduction to PyTorch for Deep Learning', 'lessons': '28 Lessons', 'price': 'Free', 'link': 'https://courses.analyticsvidhya.com/courses/introduction-to-pytorch-for-deeplearning'}\n",
      "{'course_name': 'Introductory Data Science for Business Managers', 'lessons': 'N/A', 'price': '$230.00', 'link': 'https://courses.analyticsvidhya.com/bundles/introductory-data-science-for-business-managers'}\n",
      "{'course_name': 'Introduction to Natural Language Processing', 'lessons': '21 Lessons', 'price': 'Free', 'link': 'https://courses.analyticsvidhya.com/courses/Intro-to-NLP'}\n",
      "{'course_name': 'Getting started with Decision Trees', 'lessons': '20 Lessons', 'price': 'Free', 'link': 'https://courses.analyticsvidhya.com/courses/getting-started-with-decision-trees'}\n",
      "{'course_name': 'Introduction to Python', 'lessons': '69 Lessons', 'price': 'Free', 'link': 'https://courses.analyticsvidhya.com/courses/introduction-to-data-science'}\n",
      "{'course_name': 'Loan Prediction Practice Problem (Using Python)', 'lessons': '16 Lessons', 'price': 'Free', 'link': 'https://courses.analyticsvidhya.com/courses/loan-prediction-practice-problem-using-python'}\n",
      "{'course_name': 'Big Mart Sales Prediction Using R', 'lessons': '19 Lessons', 'price': 'Free', 'link': 'https://courses.analyticsvidhya.com/courses/big-mart-sales-prediction-using-r'}\n",
      "{'course_name': 'Twitter Sentiment Analysis', 'lessons': '18 Lessons', 'price': 'Free', 'link': 'https://courses.analyticsvidhya.com/courses/twitter-sentiment-analysis'}\n",
      "{'course_name': 'Pandas for Data Analysis in Python', 'lessons': '27 Lessons', 'price': 'Free', 'link': 'https://courses.analyticsvidhya.com/courses/pandas-for-data-analysis-in-python'}\n",
      "{'course_name': 'Support Vector Machine (SVM) in Python and R', 'lessons': '13 Lessons', 'price': 'Free', 'link': 'https://courses.analyticsvidhya.com/courses/support-vector-machine-svm-in-python-and-r'}\n",
      "{'course_name': 'Evaluation Metrics for Machine Learning Models', 'lessons': '25 Lessons', 'price': 'Free', 'link': 'https://courses.analyticsvidhya.com/courses/evaluation-metrics-for-machine-learning-models'}\n",
      "{'course_name': 'Fundamentals of Regression Analysis', 'lessons': '24 Lessons', 'price': 'Free', 'link': 'https://courses.analyticsvidhya.com/courses/Fundamentals-of-Regression-Analysis'}\n",
      "{'course_name': 'Getting Started with scikit-learn (sklearn) for Machine Learning', 'lessons': '27 Lessons', 'price': 'Free', 'link': 'https://courses.analyticsvidhya.com/courses/get-started-with-scikit-learn-sklearn'}\n",
      "{'course_name': 'Convolutional Neural Networks (CNN) from Scratch', 'lessons': '17 Lessons', 'price': 'Free', 'link': 'https://courses.analyticsvidhya.com/courses/convolutional-neural-networks-cnn-from-scratch'}\n",
      "{'course_name': 'Dimensionality Reduction for Machine Learning', 'lessons': '23 Lessons', 'price': 'Free', 'link': 'https://courses.analyticsvidhya.com/courses/dimensionality-reduction-for-machine-learning'}\n",
      "{'course_name': 'K-Nearest Neighbors (KNN) Algorithm in Python and R', 'lessons': '10 Lessons', 'price': 'Free', 'link': 'https://courses.analyticsvidhya.com/courses/K-Nearest-Neighbors-KNN-Algorithm'}\n",
      "{'course_name': 'Ensemble Learning and Ensemble Learning Techniques', 'lessons': '37 Lessons', 'price': 'Free', 'link': 'https://courses.analyticsvidhya.com/courses/ensemble-learning-and-ensemble-learning-techniques'}\n",
      "{'course_name': 'Linear Programming for Data Science Professionals', 'lessons': '20 Lessons', 'price': 'Free', 'link': 'https://courses.analyticsvidhya.com/courses/linear-programming'}\n",
      "{'course_name': 'Naive Bayes from Scratch', 'lessons': '19 Lessons', 'price': 'Free', 'link': 'https://courses.analyticsvidhya.com/courses/naive-bayes'}\n",
      "{'course_name': 'Learn Swift for Data Science', 'lessons': '21 Lessons', 'price': 'Free', 'link': 'https://courses.analyticsvidhya.com/courses/learn-swift-for-data-science'}\n",
      "{'course_name': 'Introduction to Web Scraping using Python', 'lessons': '13 Lessons', 'price': 'Free', 'link': 'https://courses.analyticsvidhya.com/courses/introduction-to-web-scraping'}\n",
      "{'course_name': 'Tableau for Beginners', 'lessons': '17 Lessons', 'price': 'Free', 'link': 'https://courses.analyticsvidhya.com/courses/tableau-for-beginners'}\n",
      "{'course_name': 'Getting Started with Neural Networks', 'lessons': '45 Lessons', 'price': 'Free', 'link': 'https://courses.analyticsvidhya.com/courses/getting-started-with-neural-networks'}\n",
      "{'course_name': 'Introduction to AI & ML', 'lessons': '17 Lessons', 'price': 'Free', 'link': 'https://courses.analyticsvidhya.com/courses/introduction-to-ai-ml'}\n",
      "{'course_name': 'Winning Data Science Hackathons - Learn from Elite Data Scientists', 'lessons': '7 Lessons', 'price': 'Free', 'link': 'https://courses.analyticsvidhya.com/courses/winning-data-science-hackathons-learn-from-elite-data-scientists'}\n",
      "{'course_name': 'Hypothesis Testing for Data Science and Analytics', 'lessons': '19 Lessons', 'price': 'Free', 'link': 'https://courses.analyticsvidhya.com/courses/hypothesis-testing-for-data-science-and-analytics'}\n"
     ]
    }
   ],
   "source": [
    "import json\n",
    "\n",
    "# Load the JSON data\n",
    "with open('courses_vidhya.json', 'r') as file:\n",
    "    courses_data = json.load(file)\n",
    "\n",
    "# Display the first 5 courses\n",
    "for course in courses_data[:100]:\n",
    "    print(course)\n"
   ]
  },
  {
   "cell_type": "code",
   "execution_count": 42,
   "id": "51035bb5-689f-48cc-a9cc-e524edd09dd6",
   "metadata": {},
   "outputs": [
    {
     "name": "stdout",
     "output_type": "stream",
     "text": [
      "[[ 0.0207321  -0.00083077 -0.0013544  ...  0.03848465  0.05758337\n",
      "   0.0582363 ]\n",
      " [-0.04901564 -0.09395265 -0.04070522 ... -0.00400748  0.02121344\n",
      "  -0.03748144]\n",
      " [-0.00795452 -0.04323222 -0.00785497 ... -0.04750539 -0.06105438\n",
      "   0.01614271]\n",
      " [-0.04188452  0.07991543 -0.01995979 ...  0.031822   -0.05563084\n",
      "   0.00499994]\n",
      " [-0.07910202 -0.08839826  0.01572709 ...  0.103826    0.01209753\n",
      "  -0.02748035]]\n"
     ]
    }
   ],
   "source": [
    "from sentence_transformers import SentenceTransformer\n",
    "\n",
    "# Load the pre-trained SentenceTransformer model\n",
    "model = SentenceTransformer('all-MiniLM-L6-v2')\n",
    "\n",
    "# Embed the course names\n",
    "course_embeddings = model.encode(course_names)\n",
    "\n",
    "# Print a preview of the embeddings\n",
    "print(course_embeddings[:5])  # Preview embeddings\n"
   ]
  },
  {
   "cell_type": "code",
   "execution_count": 40,
   "id": "1515ae84-c64f-47bc-a15d-bd043bc3bcbc",
   "metadata": {},
   "outputs": [
    {
     "name": "stdout",
     "output_type": "stream",
     "text": [
      "['Frameworks for Effective Problem Solving', 'Anyone can Build AI Agents - Free Course', 'A Comprehensive Learning Path to Become a Data Analyst in 2025', 'Reimagining GenAI: Common Mistakes and Best Practices for Success', 'Coding a ChatGPT-style Language Model from Scratch in PyTorch']\n",
      "['18 Lessons', '5 Lessons', '298 Lessons', '6 Lessons', '7 Lessons']\n",
      "['Free', 'Free', 'Free', 'Free', 'Free']\n",
      "['https://courses.analyticsvidhya.com/courses/frameworks-for-effective-problem-solving', 'https://courses.analyticsvidhya.com/courses/your-ultimate-guide-to-becoming-an-agentic-ai-expert-by-2025', 'https://courses.analyticsvidhya.com/courses/a-comprehensive-learning-path-to-become-a-data-analyst-in-2025', 'https://courses.analyticsvidhya.com/courses/reimagining-genai-common-mistakes-and-best-practices-for-success', 'https://courses.analyticsvidhya.com/courses/coding-a-chatgpt-style-language-model-from-scratch-in-pytorch']\n"
     ]
    }
   ],
   "source": [
    "# Extract course names and other details from the data\n",
    "course_names = [course['course_name'] for course in courses_data]\n",
    "lessons = [course['lessons'] for course in courses_data]\n",
    "prices = [course['price'] for course in courses_data]\n",
    "links = [course['link'] for course in courses_data]\n",
    "\n",
    "# Print out the first few extracted course names and details\n",
    "print(course_names[:5])\n",
    "print(lessons[:5])\n",
    "print(prices[:5])\n",
    "print(links[:5])\n"
   ]
  },
  {
   "cell_type": "code",
   "execution_count": 44,
   "id": "2c55cc6f-39ac-48c6-8884-ce1482213ac4",
   "metadata": {},
   "outputs": [
    {
     "name": "stdout",
     "output_type": "stream",
     "text": [
      "Course: A Comprehensive Learning Path to Become a Data Analyst in 2025, Similarity Score: 0.6695\n",
      "Course: Data Science Career Conclave, Similarity Score: 0.6485\n",
      "Course: Introductory Data Science for Business Managers, Similarity Score: 0.6233\n",
      "Course: A Comprehensive Learning Path to Become a Data Scientist in 2024, Similarity Score: 0.6063\n",
      "Course: Linear Programming for Data Science Professionals, Similarity Score: 0.5631\n"
     ]
    }
   ],
   "source": [
    "from sklearn.metrics.pairwise import cosine_similarity\n",
    "\n",
    "# Function to search for similar courses based on a query\n",
    "def search_courses(query, course_names, course_embeddings, top_n=5):\n",
    "    # Encode the query using the same model\n",
    "    query_embedding = model.encode([query])\n",
    "\n",
    "    # Compute cosine similarity between query and course embeddings\n",
    "    similarities = cosine_similarity(query_embedding, course_embeddings)\n",
    "\n",
    "    # Get the top N most similar courses\n",
    "    top_indices = similarities[0].argsort()[-top_n:][::-1]\n",
    "    \n",
    "    # Return the top N courses with their similarity scores\n",
    "    results = [(course_names[i], similarities[0][i]) for i in top_indices]\n",
    "    \n",
    "    return results\n",
    "\n",
    "# Example search query\n",
    "query = \"Data analysis course\"\n",
    "results = search_courses(query, course_names, course_embeddings)\n",
    "\n",
    "# Print the results\n",
    "for course, score in results:\n",
    "    print(f\"Course: {course}, Similarity Score: {score:.4f}\")\n"
   ]
  },
  {
   "cell_type": "code",
   "execution_count": 54,
   "id": "2cdf3457-adc9-4420-8a5c-c6f37c46952f",
   "metadata": {},
   "outputs": [],
   "source": [
    "import faiss\n",
    "import numpy as np\n",
    "\n",
    "# Convert course embeddings to a numpy array\n",
    "embedding_matrix = np.array(course_embeddings).astype('float32')\n",
    "\n",
    "# Create a FAISS index for efficient similarity search\n",
    "index = faiss.IndexFlatL2(embedding_matrix.shape[1])  # L2 distance metric\n",
    "index.add(embedding_matrix)\n",
    "\n",
    "# Save the index to disk if necessary\n",
    "faiss.write_index(index, 'course_index.faiss')\n"
   ]
  },
  {
   "cell_type": "code",
   "execution_count": 58,
   "id": "cbe16f38-f44b-48df-882b-b4e10deaf0e9",
   "metadata": {},
   "outputs": [
    {
     "name": "stdout",
     "output_type": "stream",
     "text": [
      "{'Course Name': 'Introduction to Python', 'Lessons': '69 Lessons', 'Price': 'Free', 'Link': 'https://courses.analyticsvidhya.com/courses/introduction-to-data-science'}\n",
      "{'Course Name': 'Machine Learning Starter Program', 'Lessons': 'N/A', 'Price': 'Free', 'Link': 'https://courses.analyticsvidhya.com/bundles/machine-learning-starter-program'}\n",
      "{'Course Name': 'Introduction to Web Scraping using Python', 'Lessons': '13 Lessons', 'Price': 'Free', 'Link': 'https://courses.analyticsvidhya.com/courses/introduction-to-web-scraping'}\n",
      "{'Course Name': 'Pandas for Data Analysis in Python', 'Lessons': '27 Lessons', 'Price': 'Free', 'Link': 'https://courses.analyticsvidhya.com/courses/pandas-for-data-analysis-in-python'}\n",
      "{'Course Name': 'Loan Prediction Practice Problem (Using Python)', 'Lessons': '16 Lessons', 'Price': 'Free', 'Link': 'https://courses.analyticsvidhya.com/courses/loan-prediction-practice-problem-using-python'}\n"
     ]
    }
   ],
   "source": [
    "def search_courses(query, top_k=5):\n",
    "    # Encode the query\n",
    "    query_embedding = model.encode([query])\n",
    "    \n",
    "    # Calculate the similarity between the query and course embeddings\n",
    "    similarities = cosine_similarity(query_embedding, course_embeddings)\n",
    "    \n",
    "    # Get the indices of the top_k most similar courses\n",
    "    indices = similarities.argsort()[0][-top_k:][::-1]\n",
    "    \n",
    "    # Collect the results\n",
    "    results = []\n",
    "    for idx in indices:\n",
    "        course = courses_data[idx]\n",
    "        results.append({\n",
    "            'Course Name': course['course_name'],  # Corrected key\n",
    "            'Lessons': course['lessons'],  # Corrected key\n",
    "            'Price': course['price'],  # Corrected key\n",
    "            'Link': course['link']  # Corrected key\n",
    "        })\n",
    "    \n",
    "    return results\n",
    "\n",
    "# Example: Search for a course related to \"Python\"\n",
    "query = \"Python\"\n",
    "search_results = search_courses(query)\n",
    "\n",
    "for result in search_results:\n",
    "    print(result)\n"
   ]
  },
  {
   "cell_type": "code",
   "execution_count": 65,
   "id": "7c4fe752-0b79-4819-9ab9-20cd3b750eb7",
   "metadata": {},
   "outputs": [
    {
     "name": "stdout",
     "output_type": "stream",
     "text": [
      "Scraping complete. Data saved to 'free_courses_vidhya.csv'.\n"
     ]
    }
   ],
   "source": [
    "import requests\n",
    "from bs4 import BeautifulSoup\n",
    "import csv\n",
    "\n",
    "# Base URL of the webpage\n",
    "base_url = \"https://courses.analyticsvidhya.com/collections/courses?page=\"\n",
    "\n",
    "# Open a CSV file to save the data\n",
    "with open('free_courses_vidhya.csv', 'w', newline='', encoding='utf-8') as file:\n",
    "    writer = csv.writer(file)\n",
    "    writer.writerow(['Course Name', 'Lessons', 'Price', 'Link'])\n",
    "\n",
    "    page = 1\n",
    "    while True:\n",
    "        # Fetch the webpage for the current page\n",
    "        response = requests.get(base_url + str(page))\n",
    "        soup = BeautifulSoup(response.content, 'html.parser')\n",
    "\n",
    "        # Find all course cards\n",
    "        courses = soup.find_all('a', class_='course-card')\n",
    "\n",
    "        # Break if no courses are found (last page)\n",
    "        if not courses:\n",
    "            break\n",
    "\n",
    "        for course in courses:\n",
    "            # Extract details\n",
    "            course_name = course.find('h3').text.strip() if course.find('h3') else 'N/A'\n",
    "            lessons = course.find('span', class_='course-card__lesson-count')\n",
    "            lessons = lessons.text.strip() if lessons else 'N/A'\n",
    "            price = course.find('span', class_='course-card__price')\n",
    "            price = price.text.strip() if price else 'N/A'\n",
    "            link = \"https://courses.analyticsvidhya.com\" + course['href'] if course.get('href') else 'N/A'\n",
    "\n",
    "            # Check if the course is free\n",
    "            if price.lower() == 'free':  # Only include free courses\n",
    "                # Write to CSV\n",
    "                writer.writerow([course_name, lessons, price, link])\n",
    "\n",
    "        # Go to the next page\n",
    "        page += 1\n",
    "\n",
    "print(\"Scraping complete. Data saved to 'free_courses_vidhya.csv'.\")\n"
   ]
  },
  {
   "cell_type": "code",
   "execution_count": 67,
   "id": "fe2bfdaf-3da4-4a2f-9325-7199b6fbaf1f",
   "metadata": {},
   "outputs": [
    {
     "name": "stdout",
     "output_type": "stream",
     "text": [
      "Data saved as JSON.\n"
     ]
    }
   ],
   "source": [
    "import json\n",
    "\n",
    "# Load the CSV data\n",
    "with open('free_courses_vidhya.csv', 'r') as file:\n",
    "    data = [line.strip().split(',') for line in file.readlines()][1:]\n",
    "\n",
    "# Convert to dictionary format\n",
    "courses_data = [{\"course_name\": course[0], \"lessons\": course[1], \"price\": course[2], \"link\": course[3]} for course in data]\n",
    "\n",
    "# Save as JSON\n",
    "with open('free_courses_vidhya.json', 'w') as json_file:\n",
    "    json.dump(courses_data, json_file)\n",
    "\n",
    "print(\"Data saved as JSON.\")"
   ]
  },
  {
   "cell_type": "code",
   "execution_count": null,
   "id": "7cb9695f-04fa-4029-ab85-f43df08530ed",
   "metadata": {},
   "outputs": [],
   "source": []
  }
 ],
 "metadata": {
  "kernelspec": {
   "display_name": "Python 3 (ipykernel)",
   "language": "python",
   "name": "python3"
  },
  "language_info": {
   "codemirror_mode": {
    "name": "ipython",
    "version": 3
   },
   "file_extension": ".py",
   "mimetype": "text/x-python",
   "name": "python",
   "nbconvert_exporter": "python",
   "pygments_lexer": "ipython3",
   "version": "3.12.7"
  }
 },
 "nbformat": 4,
 "nbformat_minor": 5
}
