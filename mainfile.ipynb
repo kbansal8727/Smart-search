{
 "cells": [
  {
   "cell_type": "code",
   "execution_count": 6,
   "id": "90196796-bd9b-4ce0-89ea-0295c310f4fc",
   "metadata": {},
   "outputs": [
    {
     "name": "stdout",
     "output_type": "stream",
     "text": [
      "Scraping complete. Data saved to 'free_courses_vidhya.csv'.\n"
     ]
    }
   ],
   "source": [
    "import requests\n",
    "from bs4 import BeautifulSoup\n",
    "import csv\n",
    "\n",
    "base_url = \"https://courses.analyticsvidhya.com/collections/courses?page=\"\n",
    "\n",
    "with open('free_courses_vidhya.csv', 'w', newline='', encoding='utf-8') as file:\n",
    "    writer = csv.writer(file)\n",
    "    writer.writerow(['Course Name', 'Lessons', 'Price', 'Link'])\n",
    "\n",
    "    page = 1\n",
    "    while True:\n",
    "        response = requests.get(base_url + str(page))\n",
    "        soup = BeautifulSoup(response.content, 'html.parser')\n",
    "\n",
    "        courses = soup.find_all('a', class_='course-card')\n",
    "\n",
    "        if not courses:\n",
    "            break\n",
    "\n",
    "        for course in courses:\n",
    "            course_name = course.find('h3').text.strip() if course.find('h3') else 'N/A'\n",
    "            lessons = course.find('span', class_='course-card__lesson-count')\n",
    "            lessons = lessons.text.strip() if lessons else 'N/A'\n",
    "            price = course.find('span', class_='course-card__price')\n",
    "            price = price.text.strip() if price else 'N/A'\n",
    "            link = \"https://courses.analyticsvidhya.com\" + course['href'] if course.get('href') else 'N/A'\n",
    "\n",
    "            writer.writerow([course_name, lessons, price, link])\n",
    "\n",
    "        page += 1\n",
    "\n",
    "print(\"Scraping complete. Data saved to 'free_courses_vidhya.csv'.\")\n"
   ]
  },
  {
   "cell_type": "code",
   "execution_count": 8,
   "id": "d038eccc-eaf2-4e70-bc6d-e3ea328ec00f",
   "metadata": {},
   "outputs": [
    {
     "name": "stdout",
     "output_type": "stream",
     "text": [
      "Data saved as JSON.\n"
     ]
    }
   ],
   "source": [
    "import json\n",
    "\n",
    "with open('free_courses_vidhya.csv', 'r') as file:\n",
    "    data = [line.strip().split(',') for line in file.readlines()][1:]\n",
    "\n",
    "courses_data = [{\"course_name\": course[0], \"lessons\": course[1], \"price\": course[2], \"link\": course[3]} for course in data]\n",
    "\n",
    "with open('free_courses_vidhya.json', 'w') as json_file:\n",
    "    json.dump(courses_data, json_file)\n",
    "\n",
    "print(\"Data saved as JSON.\")\n"
   ]
  },
  {
   "cell_type": "code",
   "execution_count": 12,
   "id": "91d2794d-91fe-4155-82cb-9b26f3ed6207",
   "metadata": {},
   "outputs": [
    {
     "name": "stdout",
     "output_type": "stream",
     "text": [
      "{'course_name': 'Frameworks for Effective Problem Solving', 'lessons': '18 Lessons', 'price': 'Free', 'link': 'https://courses.analyticsvidhya.com/courses/frameworks-for-effective-problem-solving'}\n",
      "{'course_name': 'Anyone can Build AI Agents - Free Course', 'lessons': '5 Lessons', 'price': 'Free', 'link': 'https://courses.analyticsvidhya.com/courses/your-ultimate-guide-to-becoming-an-agentic-ai-expert-by-2025'}\n",
      "{'course_name': 'A Comprehensive Learning Path to Become a Data Analyst in 2025', 'lessons': '298 Lessons', 'price': 'Free', 'link': 'https://courses.analyticsvidhya.com/courses/a-comprehensive-learning-path-to-become-a-data-analyst-in-2025'}\n",
      "{'course_name': 'Reimagining GenAI: Common Mistakes and Best Practices for Success', 'lessons': '6 Lessons', 'price': 'Free', 'link': 'https://courses.analyticsvidhya.com/courses/reimagining-genai-common-mistakes-and-best-practices-for-success'}\n",
      "{'course_name': 'Coding a ChatGPT-style Language Model from Scratch in PyTorch', 'lessons': '7 Lessons', 'price': 'Free', 'link': 'https://courses.analyticsvidhya.com/courses/coding-a-chatgpt-style-language-model-from-scratch-in-pytorch'}\n",
      "{'course_name': 'Mastering Multilingual GenAI Open-Weights for Indic Languages', 'lessons': '9 Lessons', 'price': 'Free', 'link': 'https://courses.analyticsvidhya.com/courses/mastering-multilingual-genai-open-weights-for-indic-languages'}\n",
      "{'course_name': 'Learning Autonomous Driving Behaviors with LLMs & RL', 'lessons': '6 Lessons', 'price': 'Free', 'link': 'https://courses.analyticsvidhya.com/courses/learning-autonomous-driving-behaviors-with-llms-and-rl'}\n",
      "{'course_name': 'GenAI Applied to Quantitative Finance: For Control Implementation', 'lessons': '5 Lessons', 'price': 'Free', 'link': 'https://courses.analyticsvidhya.com/courses/genai-applied-to-quantitative-finance-for-control-implementation'}\n",
      "{'course_name': '\"Navigating LLM Tradeoffs: Techniques for Speed', 'lessons': ' Cost', 'price': ' Scale & Accuracy\"', 'link': '6 Lessons'}\n",
      "{'course_name': 'Creating Problem-Solving Agents using GenAI for Action Composition', 'lessons': '6 Lessons', 'price': 'Free', 'link': 'https://courses.analyticsvidhya.com/courses/creating-problem-solving-agents-using-genai-for-action-composition'}\n"
     ]
    }
   ],
   "source": [
    "import json\n",
    "\n",
    "with open('free_courses_vidhya.json', 'r') as file:\n",
    "    courses_data = json.load(file)\n",
    "\n",
    "for course in courses_data[:10]:\n",
    "    print(course)\n"
   ]
  },
  {
   "cell_type": "code",
   "execution_count": 20,
   "id": "1515ae84-c64f-47bc-a15d-bd043bc3bcbc",
   "metadata": {},
   "outputs": [
    {
     "name": "stdout",
     "output_type": "stream",
     "text": [
      "['Frameworks for Effective Problem Solving', 'Anyone can Build AI Agents - Free Course', 'A Comprehensive Learning Path to Become a Data Analyst in 2025', 'Reimagining GenAI: Common Mistakes and Best Practices for Success', 'Coding a ChatGPT-style Language Model from Scratch in PyTorch']\n",
      "['18 Lessons', '5 Lessons', '298 Lessons', '6 Lessons', '7 Lessons']\n",
      "['Free', 'Free', 'Free', 'Free', 'Free']\n",
      "['https://courses.analyticsvidhya.com/courses/frameworks-for-effective-problem-solving', 'https://courses.analyticsvidhya.com/courses/your-ultimate-guide-to-becoming-an-agentic-ai-expert-by-2025', 'https://courses.analyticsvidhya.com/courses/a-comprehensive-learning-path-to-become-a-data-analyst-in-2025', 'https://courses.analyticsvidhya.com/courses/reimagining-genai-common-mistakes-and-best-practices-for-success', 'https://courses.analyticsvidhya.com/courses/coding-a-chatgpt-style-language-model-from-scratch-in-pytorch']\n"
     ]
    }
   ],
   "source": [
    "course_names = [course['course_name'] for course in courses_data]\n",
    "lessons = [course['lessons'] for course in courses_data]\n",
    "prices = [course['price'] for course in courses_data]\n",
    "links = [course['link'] for course in courses_data]\n",
    "\n",
    "print(course_names[:5])\n",
    "print(lessons[:5])\n",
    "print(prices[:5])\n",
    "print(links[:5])\n"
   ]
  },
  {
   "cell_type": "code",
   "execution_count": 22,
   "id": "51035bb5-689f-48cc-a9cc-e524edd09dd6",
   "metadata": {},
   "outputs": [
    {
     "name": "stdout",
     "output_type": "stream",
     "text": [
      "[[ 0.0207321  -0.00083077 -0.0013544  ...  0.03848465  0.05758337\n",
      "   0.0582363 ]\n",
      " [-0.04901564 -0.09395265 -0.04070522 ... -0.00400748  0.02121344\n",
      "  -0.03748144]\n",
      " [-0.00795452 -0.04323222 -0.00785497 ... -0.04750539 -0.06105438\n",
      "   0.01614271]\n",
      " [-0.04188452  0.07991543 -0.01995979 ...  0.031822   -0.05563084\n",
      "   0.00499994]\n",
      " [-0.07910202 -0.08839826  0.01572709 ...  0.103826    0.01209753\n",
      "  -0.02748035]]\n"
     ]
    }
   ],
   "source": [
    "from sentence_transformers import SentenceTransformer\n",
    "\n",
    "model = SentenceTransformer('all-MiniLM-L6-v2')\n",
    "\n",
    "course_embeddings = model.encode(course_names)\n",
    "\n",
    "print(course_embeddings[:5])\n"
   ]
  },
  {
   "cell_type": "code",
   "execution_count": 24,
   "id": "2c55cc6f-39ac-48c6-8884-ce1482213ac4",
   "metadata": {},
   "outputs": [
    {
     "name": "stdout",
     "output_type": "stream",
     "text": [
      "Course: A Comprehensive Learning Path to Become a Data Analyst in 2025, Similarity Score: 0.6695\n",
      "Course: Data Science Career Conclave, Similarity Score: 0.6485\n",
      "Course: Introductory Data Science for Business Managers, Similarity Score: 0.6233\n",
      "Course: A Comprehensive Learning Path to Become a Data Scientist in 2024, Similarity Score: 0.6063\n",
      "Course: Linear Programming for Data Science Professionals, Similarity Score: 0.5631\n"
     ]
    }
   ],
   "source": [
    "from sklearn.metrics.pairwise import cosine_similarity\n",
    "\n",
    "def search_courses(query, course_names, course_embeddings, top_n=5):\n",
    "    query_embedding = model.encode([query])\n",
    "    similarities = cosine_similarity(query_embedding, course_embeddings)\n",
    "    top_indices = similarities[0].argsort()[-top_n:][::-1]\n",
    "    results = [(course_names[i], similarities[0][i]) for i in top_indices]\n",
    "    \n",
    "    return results\n",
    "\n",
    "# Example search query\n",
    "query = \"Data analysis course\"\n",
    "results = search_courses(query, course_names, course_embeddings)\n",
    "\n",
    "# Print the results\n",
    "for course, score in results:\n",
    "    print(f\"Course: {course}, Similarity Score: {score:.4f}\")\n"
   ]
  },
  {
   "cell_type": "code",
   "execution_count": 26,
   "id": "2cdf3457-adc9-4420-8a5c-c6f37c46952f",
   "metadata": {},
   "outputs": [],
   "source": [
    "import faiss\n",
    "import numpy as np\n",
    "\n",
    "embedding_matrix = np.array(course_embeddings).astype('float32')\n",
    "\n",
    "index = faiss.IndexFlatL2(embedding_matrix.shape[1])\n",
    "index.add(embedding_matrix)\n",
    "\n",
    "faiss.write_index(index, 'free_course_index.faiss')\n"
   ]
  },
  {
   "cell_type": "code",
   "execution_count": 28,
   "id": "cbe16f38-f44b-48df-882b-b4e10deaf0e9",
   "metadata": {},
   "outputs": [
    {
     "name": "stdout",
     "output_type": "stream",
     "text": [
      "{'Course Name': 'Introduction to Python', 'Lessons': '69 Lessons', 'Price': 'Free', 'Link': 'https://courses.analyticsvidhya.com/courses/introduction-to-data-science'}\n",
      "{'Course Name': 'Machine Learning Starter Program', 'Lessons': 'N/A', 'Price': 'Free', 'Link': 'https://courses.analyticsvidhya.com/bundles/machine-learning-starter-program'}\n",
      "{'Course Name': 'Introduction to Web Scraping using Python', 'Lessons': '13 Lessons', 'Price': 'Free', 'Link': 'https://courses.analyticsvidhya.com/courses/introduction-to-web-scraping'}\n",
      "{'Course Name': 'Pandas for Data Analysis in Python', 'Lessons': '27 Lessons', 'Price': 'Free', 'Link': 'https://courses.analyticsvidhya.com/courses/pandas-for-data-analysis-in-python'}\n",
      "{'Course Name': 'Loan Prediction Practice Problem (Using Python)', 'Lessons': '16 Lessons', 'Price': 'Free', 'Link': 'https://courses.analyticsvidhya.com/courses/loan-prediction-practice-problem-using-python'}\n"
     ]
    }
   ],
   "source": [
    "def search_courses(query, top_k=5):\n",
    "    query_embedding = model.encode([query])\n",
    "    \n",
    "    similarities = cosine_similarity(query_embedding, course_embeddings)\n",
    "    \n",
    "    indices = similarities.argsort()[0][-top_k:][::-1]\n",
    "    \n",
    "    results = []\n",
    "    for idx in indices:\n",
    "        course = courses_data[idx]\n",
    "        results.append({\n",
    "            'Course Name': course['course_name'],  \n",
    "            'Lessons': course['lessons'],\n",
    "            'Price': course['price'],\n",
    "            'Link': course['link']  \n",
    "        })\n",
    "    \n",
    "    return results\n",
    "\n",
    "# Example: Search for a course related to \"Python\"\n",
    "query = \"Python\"\n",
    "search_results = search_courses(query)\n",
    "\n",
    "for result in search_results:\n",
    "    print(result)\n"
   ]
  },
  {
   "cell_type": "code",
   "execution_count": null,
   "id": "7cb9695f-04fa-4029-ab85-f43df08530ed",
   "metadata": {},
   "outputs": [],
   "source": []
  }
 ],
 "metadata": {
  "kernelspec": {
   "display_name": "Python 3 (ipykernel)",
   "language": "python",
   "name": "python3"
  },
  "language_info": {
   "codemirror_mode": {
    "name": "ipython",
    "version": 3
   },
   "file_extension": ".py",
   "mimetype": "text/x-python",
   "name": "python",
   "nbconvert_exporter": "python",
   "pygments_lexer": "ipython3",
   "version": "3.12.7"
  }
 },
 "nbformat": 4,
 "nbformat_minor": 5
}
